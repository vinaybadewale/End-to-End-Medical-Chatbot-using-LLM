{
 "cells": [
  {
   "cell_type": "code",
   "execution_count": 57,
   "metadata": {
    "ExecuteTime": {
     "end_time": "2024-08-01T13:19:56.662885Z",
     "start_time": "2024-08-01T13:19:56.632175Z"
    }
   },
   "outputs": [],
   "source": [
    "import ssl\n",
    "import os\n",
    "try:\n",
    "    _create_unverified_https_context = ssl._create_unverified_context\n",
    "except AttributeError:\n",
    "    pass\n",
    "else:\n",
    "    ssl._create_default_https_context = _create_unverified_https_context\n",
    "os.environ[\"REQUESTS_CA_BUNDLE\"] = str(r\"C:\\Users\\AL03238\\OneDrive - Elevance Health\\Documents\\Work\\Project Intelliauth\\license\\root.pem\")\n",
    "os.environ[\"SSL_CERT_FILE\"] = str(r\"C:\\Users\\AL03238\\OneDrive - Elevance Health\\Documents\\Work\\Project Intelliauth\\license\\root.pem\")"
   ]
  },
  {
   "cell_type": "markdown",
   "metadata": {},
   "source": [
    "## Model Download"
   ]
  },
  {
   "cell_type": "code",
   "execution_count": 38,
   "metadata": {
    "ExecuteTime": {
     "end_time": "2024-08-01T09:41:45.730616Z",
     "start_time": "2024-08-01T09:39:00.448250Z"
    }
   },
   "outputs": [
    {
     "name": "stdout",
     "output_type": "stream",
     "text": [
      "Requirement already satisfied: cmake in c:\\programdata\\anaconda3\\envs\\mchatbot\\lib\\site-packages (3.30.1)\n",
      "Using pip 24.0 from C:\\ProgramData\\Anaconda3\\envs\\mchatbot\\lib\\site-packages\\pip (python 3.8)"
     ]
    },
    {
     "name": "stderr",
     "output_type": "stream",
     "text": [
      "  Running command pip subprocess to install build dependencies\n",
      "  Collecting setuptools>=42\n",
      "    Using cached setuptools-72.1.0-py3-none-any.whl.metadata (6.6 kB)\n",
      "  Collecting scikit-build>=0.13\n",
      "    Using cached scikit_build-0.18.0-py3-none-any.whl.metadata (17 kB)\n",
      "  Collecting cmake>=3.18\n",
      "    Using cached cmake-3.30.1-py3-none-win_amd64.whl.metadata (6.1 kB)\n",
      "  Collecting ninja\n",
      "    Using cached ninja-1.11.1.1-py2.py3-none-win_amd64.whl.metadata (5.4 kB)\n",
      "  Collecting distro (from scikit-build>=0.13)\n",
      "    Using cached distro-1.9.0-py3-none-any.whl.metadata (6.8 kB)\n",
      "  Collecting packaging (from scikit-build>=0.13)\n",
      "    Using cached packaging-24.1-py3-none-any.whl.metadata (3.2 kB)\n",
      "  Collecting tomli (from scikit-build>=0.13)\n",
      "    Using cached tomli-2.0.1-py3-none-any.whl.metadata (8.9 kB)\n",
      "  Collecting wheel>=0.32.0 (from scikit-build>=0.13)\n",
      "    Using cached wheel-0.43.0-py3-none-any.whl.metadata (2.2 kB)\n",
      "  Using cached setuptools-72.1.0-py3-none-any.whl (2.3 MB)\n",
      "  Using cached scikit_build-0.18.0-py3-none-any.whl (85 kB)\n",
      "  Using cached cmake-3.30.1-py3-none-win_amd64.whl (35.7 MB)\n",
      "  Using cached ninja-1.11.1.1-py2.py3-none-win_amd64.whl (312 kB)\n",
      "  Using cached wheel-0.43.0-py3-none-any.whl (65 kB)\n",
      "  Using cached distro-1.9.0-py3-none-any.whl (20 kB)\n",
      "  Using cached packaging-24.1-py3-none-any.whl (53 kB)\n",
      "  Using cached tomli-2.0.1-py3-none-any.whl (12 kB)\n",
      "  Installing collected packages: ninja, wheel, tomli, setuptools, packaging, distro, cmake, scikit-build\n",
      "  Successfully installed cmake-3.30.1 distro-1.9.0 ninja-1.11.1.1 packaging-24.1 scikit-build-0.18.0 setuptools-72.1.0 tomli-2.0.1 wheel-0.43.0\n",
      "  Running command Getting requirements to build wheel\n",
      "  running egg_info\n",
      "  writing llama_cpp_python.egg-info\\PKG-INFO\n",
      "  writing dependency_links to llama_cpp_python.egg-info\\dependency_links.txt\n",
      "  writing requirements to llama_cpp_python.egg-info\\requires.txt\n",
      "  writing top-level names to llama_cpp_python.egg-info\\top_level.txt\n",
      "  reading manifest file 'llama_cpp_python.egg-info\\SOURCES.txt'\n",
      "  adding license file 'LICENSE.md'\n",
      "  writing manifest file 'llama_cpp_python.egg-info\\SOURCES.txt'\n",
      "  Running command Preparing metadata (pyproject.toml)\n",
      "  running dist_info\n",
      "  creating C:\\Users\\AL03238\\AppData\\Local\\Temp\\1\\pip-modern-metadata-s0np29gm\\llama_cpp_python.egg-info\n",
      "  writing C:\\Users\\AL03238\\AppData\\Local\\Temp\\1\\pip-modern-metadata-s0np29gm\\llama_cpp_python.egg-info\\PKG-INFO\n",
      "  writing dependency_links to C:\\Users\\AL03238\\AppData\\Local\\Temp\\1\\pip-modern-metadata-s0np29gm\\llama_cpp_python.egg-info\\dependency_links.txt\n",
      "  writing requirements to C:\\Users\\AL03238\\AppData\\Local\\Temp\\1\\pip-modern-metadata-s0np29gm\\llama_cpp_python.egg-info\\requires.txt\n",
      "  writing top-level names to C:\\Users\\AL03238\\AppData\\Local\\Temp\\1\\pip-modern-metadata-s0np29gm\\llama_cpp_python.egg-info\\top_level.txt\n",
      "  writing manifest file 'C:\\Users\\AL03238\\AppData\\Local\\Temp\\1\\pip-modern-metadata-s0np29gm\\llama_cpp_python.egg-info\\SOURCES.txt'\n",
      "  reading manifest file 'C:\\Users\\AL03238\\AppData\\Local\\Temp\\1\\pip-modern-metadata-s0np29gm\\llama_cpp_python.egg-info\\SOURCES.txt'\n",
      "  adding license file 'LICENSE.md'\n",
      "  writing manifest file 'C:\\Users\\AL03238\\AppData\\Local\\Temp\\1\\pip-modern-metadata-s0np29gm\\llama_cpp_python.egg-info\\SOURCES.txt'\n",
      "  creating 'C:\\Users\\AL03238\\AppData\\Local\\Temp\\1\\pip-modern-metadata-s0np29gm\\llama_cpp_python-0.1.78.dist-info'\n",
      "  Running command Building wheel for llama-cpp-python (pyproject.toml)\n",
      "\n",
      "\n",
      "  --------------------------------------------------------------------------------\n",
      "  -- Trying 'Ninja (Visual Studio 17 2022 x64 v144)' generator\n",
      "  --------------------------------\n",
      "  ---------------------------\n",
      "  ----------------------\n",
      "  -----------------\n",
      "  ------------\n",
      "  -------\n",
      "  --\n",
      "  Not searching for unused variables given on the command line.\n",
      "  -- The C compiler identification is unknown\n",
      "  CMake Error at CMakeLists.txt:3 (ENABLE_LANGUAGE):\n",
      "    No CMAKE_C_COMPILER could be found.\n",
      "\n",
      "    Tell CMake where to find the compiler by setting either the environment\n",
      "    variable \"CC\" or the CMake cache entry CMAKE_C_COMPILER to the full path to\n",
      "    the compiler, or to the compiler name if it is in the PATH.\n",
      "\n",
      "\n",
      "  -- Configuring incomplete, errors occurred!\n",
      "  --\n",
      "  -------\n",
      "  ------------\n",
      "  -----------------\n",
      "  ----------------------\n",
      "  ---------------------------\n",
      "  --------------------------------\n",
      "  -- Trying 'Ninja (Visual Studio 17 2022 x64 v144)' generator - failure\n",
      "  --------------------------------------------------------------------------------\n",
      "\n",
      "\n",
      "\n",
      "  --------------------------------------------------------------------------------\n",
      "  -- Trying 'Visual Studio 17 2022 x64 v144' generator\n",
      "  --------------------------------\n",
      "  ---------------------------\n",
      "  ----------------------\n",
      "  -----------------\n",
      "  ------------\n",
      "  -------\n",
      "  --\n",
      "  Not searching for unused variables given on the command line.\n",
      "  -- Selecting Windows SDK version 10.0.22000.0 to target Windows 10.0.22621.\n",
      "  CMake Error at CMakeLists.txt:2 (PROJECT):\n",
      "    Failed to run MSBuild command:\n",
      "\n",
      "      C:/Program Files/Microsoft Visual Studio/2022/Community/MSBuild/Current/Bin/amd64/MSBuild.exe\n",
      "\n",
      "    to get the value of VCTargetsPath:\n",
      "\n",
      "      MSBuild version 17.7.2+d6990bcfa for .NET Framework\n",
      "      Build started 8/1/2024 3:10:39 PM.\n",
      "\n",
      "      Project \"C:\\Users\\AL03238\\AppData\\Local\\Temp\\1\\pip-install-8906opop\\llama-cpp-python_a65115df1b61463693d5ab3a9d8de058\\_cmake_test_compile\\build\\CMakeFiles\\3.30.1\\VCTargetsPath.vcxproj\" on node 1 (default targets).\n",
      "      C:\\Program Files\\Microsoft Visual Studio\\2022\\Community\\MSBuild\\Microsoft\\VC\\v170\\Microsoft.CppBuild.targets(456,5): error MSB8020: The build tools for v144 (Platform Toolset = 'v144') cannot be found. To build using the v144 build tools, please install v144 build tools.  Alternatively, you may upgrade to the current Visual Studio tools by selecting the Project menu or right-click the solution, and then selecting \"Retarget solution\". [C:\\Users\\AL03238\\AppData\\Local\\Temp\\1\\pip-install-8906opop\\llama-cpp-python_a65115df1b61463693d5ab3a9d8de058\\_cmake_test_compile\\build\\CMakeFiles\\3.30.1\\VCTargetsPath.vcxproj]\n",
      "      Done Building Project \"C:\\Users\\AL03238\\AppData\\Local\\Temp\\1\\pip-install-8906opop\\llama-cpp-python_a65115df1b61463693d5ab3a9d8de058\\_cmake_test_compile\\build\\CMakeFiles\\3.30.1\\VCTargetsPath.vcxproj\" (default targets) -- FAILED.\n",
      "\n",
      "      Build FAILED.\n",
      "\n",
      "      \"C:\\Users\\AL03238\\AppData\\Local\\Temp\\1\\pip-install-8906opop\\llama-cpp-python_a65115df1b61463693d5ab3a9d8de058\\_cmake_test_compile\\build\\CMakeFiles\\3.30.1\\VCTargetsPath.vcxproj\" (default target) (1) ->\n",
      "      (PrepareForBuild target) ->\n",
      "        C:\\Program Files\\Microsoft Visual Studio\\2022\\Community\\MSBuild\\Microsoft\\VC\\v170\\Microsoft.CppBuild.targets(456,5): error MSB8020: The build tools for v144 (Platform Toolset = 'v144') cannot be found. To build using the v144 build tools, please install v144 build tools.  Alternatively, you may upgrade to the current Visual Studio tools by selecting the Project menu or right-click the solution, and then selecting \"Retarget solution\". [C:\\Users\\AL03238\\AppData\\Local\\Temp\\1\\pip-install-8906opop\\llama-cpp-python_a65115df1b61463693d5ab3a9d8de058\\_cmake_test_compile\\build\\CMakeFiles\\3.30.1\\VCTargetsPath.vcxproj]\n",
      "\n",
      "          0 Warning(s)\n",
      "          1 Error(s)\n",
      "\n",
      "      Time Elapsed 00:00:00.32\n",
      "\n",
      "\n",
      "    Exit code: 1\n",
      "\n",
      "\n",
      "\n",
      "  -- Configuring incomplete, errors occurred!\n",
      "  --\n",
      "  -------\n",
      "  ------------\n",
      "  -----------------\n",
      "  ----------------------\n",
      "  ---------------------------\n",
      "  --------------------------------\n",
      "  -- Trying 'Visual Studio 17 2022 x64 v144' generator - failure\n",
      "  --------------------------------------------------------------------------------\n",
      "\n",
      "\n",
      "\n",
      "  --------------------------------------------------------------------------------\n",
      "  -- Trying 'Ninja (Visual Studio 17 2022 x64 v143)' generator\n",
      "  --------------------------------\n",
      "  ---------------------------\n",
      "  ----------------------\n",
      "  -----------------\n",
      "  ------------\n",
      "  -------\n",
      "  --\n",
      "  Not searching for unused variables given on the command line.\n",
      "  -- The C compiler identification is MSVC 19.37.32825.0\n",
      "  -- Detecting C compiler ABI info\n",
      "  -- Detecting C compiler ABI info - done\n",
      "  -- Check for working C compiler: C:/Program Files/Microsoft Visual Studio/2022/Community/VC/Tools/MSVC/14.37.32822/bin/Hostx86/x64/cl.exe - skipped\n",
      "  -- Detecting C compile features\n",
      "  -- Detecting C compile features - done\n",
      "  -- The CXX compiler identification is MSVC 19.37.32825.0\n",
      "  -- Detecting CXX compiler ABI info\n",
      "  -- Detecting CXX compiler ABI info - done\n",
      "  -- Check for working CXX compiler: C:/Program Files/Microsoft Visual Studio/2022/Community/VC/Tools/MSVC/14.37.32822/bin/Hostx86/x64/cl.exe - skipped\n",
      "  -- Detecting CXX compile features\n",
      "  -- Detecting CXX compile features - done\n",
      "  -- Configuring done (10.4s)\n",
      "  -- Generating done (0.5s)\n",
      "  -- Build files have been written to: C:/Users/AL03238/AppData/Local/Temp/1/pip-install-8906opop/llama-cpp-python_a65115df1b61463693d5ab3a9d8de058/_cmake_test_compile/build\n",
      "  --\n",
      "  -------\n",
      "  ------------\n",
      "  -----------------\n",
      "  ----------------------\n",
      "  ---------------------------\n",
      "  --------------------------------\n",
      "  -- Trying 'Ninja (Visual Studio 17 2022 x64 v143)' generator - success\n",
      "  --------------------------------------------------------------------------------\n",
      "\n",
      "  Configuring Project\n",
      "    Working directory:\n",
      "      C:\\Users\\AL03238\\AppData\\Local\\Temp\\1\\pip-install-8906opop\\llama-cpp-python_a65115df1b61463693d5ab3a9d8de058\\_skbuild\\win-amd64-3.8\\cmake-build\n",
      "    Command:\n",
      "      'C:\\Users\\AL03238\\AppData\\Local\\Temp\\1\\pip-build-env-6u2s1tle\\overlay\\Lib\\site-packages\\cmake\\data\\bin/cmake.exe' 'C:\\Users\\AL03238\\AppData\\Local\\Temp\\1\\pip-install-8906opop\\llama-cpp-python_a65115df1b61463693d5ab3a9d8de058' -G Ninja '-DCMAKE_MAKE_PROGRAM:FILEPATH=C:\\Users\\AL03238\\AppData\\Local\\Temp\\1\\pip-build-env-6u2s1tle\\overlay\\Lib\\site-packages\\ninja\\data\\bin\\ninja' -D_SKBUILD_FORCE_MSVC=1930 --no-warn-unused-cli '-DCMAKE_INSTALL_PREFIX:PATH=C:\\Users\\AL03238\\AppData\\Local\\Temp\\1\\pip-install-8906opop\\llama-cpp-python_a65115df1b61463693d5ab3a9d8de058\\_skbuild\\win-amd64-3.8\\cmake-install' -DPYTHON_VERSION_STRING:STRING=3.8.19 -DSKBUILD:INTERNAL=TRUE '-DCMAKE_MODULE_PATH:PATH=C:\\Users\\AL03238\\AppData\\Local\\Temp\\1\\pip-build-env-6u2s1tle\\overlay\\Lib\\site-packages\\skbuild\\resources\\cmake' '-DPYTHON_EXECUTABLE:PATH=C:\\ProgramData\\Anaconda3\\envs\\mchatbot\\python.exe' '-DPYTHON_INCLUDE_DIR:PATH=C:\\ProgramData\\Anaconda3\\envs\\mchatbot\\Include' '-DPYTHON_LIBRARY:PATH=C:\\ProgramData\\Anaconda3\\envs\\mchatbot\\libs\\python38.lib' '-DPython_EXECUTABLE:PATH=C:\\ProgramData\\Anaconda3\\envs\\mchatbot\\python.exe' '-DPython_ROOT_DIR:PATH=C:\\ProgramData\\Anaconda3\\envs\\mchatbot' -DPython_FIND_REGISTRY:STRING=NEVER '-DPython_INCLUDE_DIR:PATH=C:\\ProgramData\\Anaconda3\\envs\\mchatbot\\Include' '-DPython_LIBRARY:PATH=C:\\ProgramData\\Anaconda3\\envs\\mchatbot\\libs\\python38.lib' '-DPython3_EXECUTABLE:PATH=C:\\ProgramData\\Anaconda3\\envs\\mchatbot\\python.exe' '-DPython3_ROOT_DIR:PATH=C:\\ProgramData\\Anaconda3\\envs\\mchatbot' -DPython3_FIND_REGISTRY:STRING=NEVER '-DPython3_INCLUDE_DIR:PATH=C:\\ProgramData\\Anaconda3\\envs\\mchatbot\\Include' '-DPython3_LIBRARY:PATH=C:\\ProgramData\\Anaconda3\\envs\\mchatbot\\libs\\python38.lib' '-DCMAKE_MAKE_PROGRAM:FILEPATH=C:\\Users\\AL03238\\AppData\\Local\\Temp\\1\\pip-build-env-6u2s1tle\\overlay\\Lib\\site-packages\\ninja\\data\\bin\\ninja' -DCMAKE_BUILD_TYPE:STRING=Release\n",
      "\n",
      "  Not searching for unused variables given on the command line.\n",
      "  -- The C compiler identification is MSVC 19.37.32825.0\n",
      "  -- The CXX compiler identification is MSVC 19.37.32825.0\n",
      "  -- Detecting C compiler ABI info\n",
      "  -- Detecting C compiler ABI info - done\n",
      "  -- Check for working C compiler: C:/Program Files/Microsoft Visual Studio/2022/Community/VC/Tools/MSVC/14.37.32822/bin/Hostx86/x64/cl.exe - skipped\n",
      "  -- Detecting C compile features\n",
      "  -- Detecting C compile features - done\n",
      "  -- Detecting CXX compiler ABI info\n",
      "  -- Detecting CXX compiler ABI info - done\n",
      "  -- Check for working CXX compiler: C:/Program Files/Microsoft Visual Studio/2022/Community/VC/Tools/MSVC/14.37.32822/bin/Hostx86/x64/cl.exe - skipped\n",
      "  -- Detecting CXX compile features\n",
      "  -- Detecting CXX compile features - done\n",
      "  -- Found Git: C:/Users/AL03238/AppData/Local/Programs/Git/cmd/git.exe (found version \"2.45.1.windows.1\")\n",
      "  fatal: not a git repository (or any of the parent directories): .git\n",
      "  fatal: not a git repository (or any of the parent directories): .git\n",
      "  CMake Warning at vendor/llama.cpp/CMakeLists.txt:117 (message):\n",
      "    Git repository not found; to enable automatic generation of build info,\n",
      "    make sure Git is installed and the project is a Git repository.\n",
      "\n",
      "\n",
      "  -- Performing Test CMAKE_HAVE_LIBC_PTHREAD\n",
      "  -- Performing Test CMAKE_HAVE_LIBC_PTHREAD - Failed\n",
      "  -- Looking for pthread_create in pthreads\n",
      "  -- Looking for pthread_create in pthreads - not found\n",
      "  -- Looking for pthread_create in pthread\n",
      "  -- Looking for pthread_create in pthread - not found\n",
      "  -- Found Threads: TRUE\n",
      "  -- CMAKE_SYSTEM_PROCESSOR: AMD64\n",
      "  -- x86 detected\n",
      "  -- Configuring done (14.8s)\n",
      "  -- Generating done (0.5s)\n",
      "  -- Build files have been written to: C:/Users/AL03238/AppData/Local/Temp/1/pip-install-8906opop/llama-cpp-python_a65115df1b61463693d5ab3a9d8de058/_skbuild/win-amd64-3.8/cmake-build\n",
      "  -- Install configuration: \"Release\"\n",
      "  -- Installing: C:/Users/AL03238/AppData/Local/Temp/1/pip-install-8906opop/llama-cpp-python_a65115df1b61463693d5ab3a9d8de058/_skbuild/win-amd64-3.8/cmake-install/lib/ggml_shared.lib\n",
      "  -- Installing: C:/Users/AL03238/AppData/Local/Temp/1/pip-install-8906opop/llama-cpp-python_a65115df1b61463693d5ab3a9d8de058/_skbuild/win-amd64-3.8/cmake-install/bin/ggml_shared.dll\n",
      "  -- Installing: C:/Users/AL03238/AppData/Local/Temp/1/pip-install-8906opop/llama-cpp-python_a65115df1b61463693d5ab3a9d8de058/_skbuild/win-amd64-3.8/cmake-install/lib/llama.lib\n",
      "  -- Installing: C:/Users/AL03238/AppData/Local/Temp/1/pip-install-8906opop/llama-cpp-python_a65115df1b61463693d5ab3a9d8de058/_skbuild/win-amd64-3.8/cmake-install/bin/llama.dll\n",
      "  -- Installing: C:/Users/AL03238/AppData/Local/Temp/1/pip-install-8906opop/llama-cpp-python_a65115df1b61463693d5ab3a9d8de058/_skbuild/win-amd64-3.8/cmake-install/bin/convert.py\n",
      "  -- Installing: C:/Users/AL03238/AppData/Local/Temp/1/pip-install-8906opop/llama-cpp-python_a65115df1b61463693d5ab3a9d8de058/_skbuild/win-amd64-3.8/cmake-install/bin/convert-lora-to-ggml.py\n",
      "  -- Installing: C:/Users/AL03238/AppData/Local/Temp/1/pip-install-8906opop/llama-cpp-python_a65115df1b61463693d5ab3a9d8de058/_skbuild/win-amd64-3.8/cmake-install/llama_cpp/llama.lib\n",
      "  -- Installing: C:/Users/AL03238/AppData/Local/Temp/1/pip-install-8906opop/llama-cpp-python_a65115df1b61463693d5ab3a9d8de058/_skbuild/win-amd64-3.8/cmake-install/llama_cpp/llama.dll\n",
      "  [1/8] Building C object vendor\\llama.cpp\\CMakeFiles\\ggml.dir\\ggml-alloc.c.obj\n",
      "  [2/8] Building C object vendor\\llama.cpp\\CMakeFiles\\ggml.dir\\k_quants.c.obj\n",
      "  [3/8] Building C object vendor\\llama.cpp\\CMakeFiles\\ggml.dir\\ggml.c.obj\n",
      "  [4/8] Linking C static library vendor\\llama.cpp\\ggml_static.lib\n",
      "  [5/8] Building CXX object vendor\\llama.cpp\\CMakeFiles\\llama.dir\\llama.cpp.obj\n",
      "  [6/8] Linking C shared library bin\\ggml_shared.dll\n",
      "  [7/8] Linking CXX shared library bin\\llama.dll\n",
      "  [7/8] Install the project...\n",
      "\n",
      "  copying llama_cpp\\llama.py -> _skbuild\\win-amd64-3.8\\cmake-install\\llama_cpp\\llama.py\n",
      "  copying llama_cpp\\llama_cpp.py -> _skbuild\\win-amd64-3.8\\cmake-install\\llama_cpp\\llama_cpp.py\n",
      "  copying llama_cpp\\llama_grammar.py -> _skbuild\\win-amd64-3.8\\cmake-install\\llama_cpp\\llama_grammar.py\n",
      "  copying llama_cpp\\llama_types.py -> _skbuild\\win-amd64-3.8\\cmake-install\\llama_cpp\\llama_types.py\n",
      "  copying llama_cpp\\utils.py -> _skbuild\\win-amd64-3.8\\cmake-install\\llama_cpp\\utils.py\n",
      "  copying llama_cpp\\__init__.py -> _skbuild\\win-amd64-3.8\\cmake-install\\llama_cpp\\__init__.py\n",
      "  creating directory _skbuild\\win-amd64-3.8\\cmake-install\\llama_cpp/server\n",
      "  copying llama_cpp/server\\app.py -> _skbuild\\win-amd64-3.8\\cmake-install\\llama_cpp/server\\app.py\n",
      "  copying llama_cpp/server\\__init__.py -> _skbuild\\win-amd64-3.8\\cmake-install\\llama_cpp/server\\__init__.py\n",
      "  copying llama_cpp/server\\__main__.py -> _skbuild\\win-amd64-3.8\\cmake-install\\llama_cpp/server\\__main__.py\n",
      "  copying C:\\Users\\AL03238\\AppData\\Local\\Temp\\1\\pip-install-8906opop\\llama-cpp-python_a65115df1b61463693d5ab3a9d8de058\\llama_cpp\\py.typed -> _skbuild\\win-amd64-3.8\\cmake-install\\llama_cpp\\py.typed\n",
      "\n",
      "  running bdist_wheel\n",
      "  running build\n",
      "  running build_py\n",
      "  creating _skbuild\\win-amd64-3.8\\setuptools\\lib.win-amd64-cpython-38\n",
      "  creating _skbuild\\win-amd64-3.8\\setuptools\\lib.win-amd64-cpython-38\\llama_cpp\n",
      "  copying _skbuild\\win-amd64-3.8\\cmake-install\\llama_cpp\\llama.py -> _skbuild\\win-amd64-3.8\\setuptools\\lib.win-amd64-cpython-38\\llama_cpp\n",
      "  copying _skbuild\\win-amd64-3.8\\cmake-install\\llama_cpp\\llama_cpp.py -> _skbuild\\win-amd64-3.8\\setuptools\\lib.win-amd64-cpython-38\\llama_cpp\n",
      "  copying _skbuild\\win-amd64-3.8\\cmake-install\\llama_cpp\\llama_grammar.py -> _skbuild\\win-amd64-3.8\\setuptools\\lib.win-amd64-cpython-38\\llama_cpp\n",
      "  copying _skbuild\\win-amd64-3.8\\cmake-install\\llama_cpp\\llama_types.py -> _skbuild\\win-amd64-3.8\\setuptools\\lib.win-amd64-cpython-38\\llama_cpp\n",
      "  copying _skbuild\\win-amd64-3.8\\cmake-install\\llama_cpp\\utils.py -> _skbuild\\win-amd64-3.8\\setuptools\\lib.win-amd64-cpython-38\\llama_cpp\n",
      "  copying _skbuild\\win-amd64-3.8\\cmake-install\\llama_cpp\\__init__.py -> _skbuild\\win-amd64-3.8\\setuptools\\lib.win-amd64-cpython-38\\llama_cpp\n",
      "  creating _skbuild\\win-amd64-3.8\\setuptools\\lib.win-amd64-cpython-38\\llama_cpp\\server\n",
      "  copying _skbuild\\win-amd64-3.8\\cmake-install\\llama_cpp\\server\\app.py -> _skbuild\\win-amd64-3.8\\setuptools\\lib.win-amd64-cpython-38\\llama_cpp\\server\n",
      "  copying _skbuild\\win-amd64-3.8\\cmake-install\\llama_cpp\\server\\__init__.py -> _skbuild\\win-amd64-3.8\\setuptools\\lib.win-amd64-cpython-38\\llama_cpp\\server\n",
      "  copying _skbuild\\win-amd64-3.8\\cmake-install\\llama_cpp\\server\\__main__.py -> _skbuild\\win-amd64-3.8\\setuptools\\lib.win-amd64-cpython-38\\llama_cpp\\server\n",
      "  copying _skbuild\\win-amd64-3.8\\cmake-install\\llama_cpp\\py.typed -> _skbuild\\win-amd64-3.8\\setuptools\\lib.win-amd64-cpython-38\\llama_cpp\n",
      "  copying _skbuild\\win-amd64-3.8\\cmake-install\\llama_cpp\\llama.lib -> _skbuild\\win-amd64-3.8\\setuptools\\lib.win-amd64-cpython-38\\llama_cpp\n",
      "  copying _skbuild\\win-amd64-3.8\\cmake-install\\llama_cpp\\llama.dll -> _skbuild\\win-amd64-3.8\\setuptools\\lib.win-amd64-cpython-38\\llama_cpp\n",
      "  copying _skbuild\\win-amd64-3.8\\cmake-install\\llama_cpp\\llama.py -> _skbuild\\win-amd64-3.8\\setuptools\\lib.win-amd64-cpython-38\\llama_cpp\n",
      "  copying _skbuild\\win-amd64-3.8\\cmake-install\\llama_cpp\\llama_cpp.py -> _skbuild\\win-amd64-3.8\\setuptools\\lib.win-amd64-cpython-38\\llama_cpp\n",
      "  copying _skbuild\\win-amd64-3.8\\cmake-install\\llama_cpp\\llama_grammar.py -> _skbuild\\win-amd64-3.8\\setuptools\\lib.win-amd64-cpython-38\\llama_cpp\n",
      "  copying _skbuild\\win-amd64-3.8\\cmake-install\\llama_cpp\\llama_types.py -> _skbuild\\win-amd64-3.8\\setuptools\\lib.win-amd64-cpython-38\\llama_cpp\n",
      "  copying _skbuild\\win-amd64-3.8\\cmake-install\\llama_cpp\\utils.py -> _skbuild\\win-amd64-3.8\\setuptools\\lib.win-amd64-cpython-38\\llama_cpp\n",
      "  copying _skbuild\\win-amd64-3.8\\cmake-install\\llama_cpp\\__init__.py -> _skbuild\\win-amd64-3.8\\setuptools\\lib.win-amd64-cpython-38\\llama_cpp\n",
      "  copying _skbuild\\win-amd64-3.8\\cmake-install\\llama_cpp\\server\\app.py -> _skbuild\\win-amd64-3.8\\setuptools\\lib.win-amd64-cpython-38\\llama_cpp\\server\n",
      "  copying _skbuild\\win-amd64-3.8\\cmake-install\\llama_cpp\\server\\__init__.py -> _skbuild\\win-amd64-3.8\\setuptools\\lib.win-amd64-cpython-38\\llama_cpp\\server\n",
      "  copying _skbuild\\win-amd64-3.8\\cmake-install\\llama_cpp\\server\\__main__.py -> _skbuild\\win-amd64-3.8\\setuptools\\lib.win-amd64-cpython-38\\llama_cpp\\server\n",
      "  copied 9 files\n",
      "  running build_ext\n",
      "  installing to _skbuild\\win-amd64-3.8\\setuptools\\bdist.win-amd64\\wheel\n",
      "  running install\n",
      "  running install_lib\n",
      "  creating _skbuild\\win-amd64-3.8\\setuptools\\bdist.win-amd64\n",
      "  creating _skbuild\\win-amd64-3.8\\setuptools\\bdist.win-amd64\\wheel\n",
      "  creating _skbuild\\win-amd64-3.8\\setuptools\\bdist.win-amd64\\wheel\\llama_cpp\n",
      "  copying _skbuild\\win-amd64-3.8\\setuptools\\lib.win-amd64-cpython-38\\llama_cpp\\llama.dll -> _skbuild\\win-amd64-3.8\\setuptools\\bdist.win-amd64\\wheel\\.\\llama_cpp\n",
      "  copying _skbuild\\win-amd64-3.8\\setuptools\\lib.win-amd64-cpython-38\\llama_cpp\\llama.lib -> _skbuild\\win-amd64-3.8\\setuptools\\bdist.win-amd64\\wheel\\.\\llama_cpp\n",
      "  copying _skbuild\\win-amd64-3.8\\setuptools\\lib.win-amd64-cpython-38\\llama_cpp\\llama.py -> _skbuild\\win-amd64-3.8\\setuptools\\bdist.win-amd64\\wheel\\.\\llama_cpp\n",
      "  copying _skbuild\\win-amd64-3.8\\setuptools\\lib.win-amd64-cpython-38\\llama_cpp\\llama_cpp.py -> _skbuild\\win-amd64-3.8\\setuptools\\bdist.win-amd64\\wheel\\.\\llama_cpp\n",
      "  copying _skbuild\\win-amd64-3.8\\setuptools\\lib.win-amd64-cpython-38\\llama_cpp\\llama_grammar.py -> _skbuild\\win-amd64-3.8\\setuptools\\bdist.win-amd64\\wheel\\.\\llama_cpp\n",
      "  copying _skbuild\\win-amd64-3.8\\setuptools\\lib.win-amd64-cpython-38\\llama_cpp\\llama_types.py -> _skbuild\\win-amd64-3.8\\setuptools\\bdist.win-amd64\\wheel\\.\\llama_cpp\n",
      "  copying _skbuild\\win-amd64-3.8\\setuptools\\lib.win-amd64-cpython-38\\llama_cpp\\py.typed -> _skbuild\\win-amd64-3.8\\setuptools\\bdist.win-amd64\\wheel\\.\\llama_cpp\n",
      "  creating _skbuild\\win-amd64-3.8\\setuptools\\bdist.win-amd64\\wheel\\llama_cpp\\server\n",
      "  copying _skbuild\\win-amd64-3.8\\setuptools\\lib.win-amd64-cpython-38\\llama_cpp\\server\\app.py -> _skbuild\\win-amd64-3.8\\setuptools\\bdist.win-amd64\\wheel\\.\\llama_cpp\\server\n",
      "  copying _skbuild\\win-amd64-3.8\\setuptools\\lib.win-amd64-cpython-38\\llama_cpp\\server\\__init__.py -> _skbuild\\win-amd64-3.8\\setuptools\\bdist.win-amd64\\wheel\\.\\llama_cpp\\server\n",
      "  copying _skbuild\\win-amd64-3.8\\setuptools\\lib.win-amd64-cpython-38\\llama_cpp\\server\\__main__.py -> _skbuild\\win-amd64-3.8\\setuptools\\bdist.win-amd64\\wheel\\.\\llama_cpp\\server\n",
      "  copying _skbuild\\win-amd64-3.8\\setuptools\\lib.win-amd64-cpython-38\\llama_cpp\\utils.py -> _skbuild\\win-amd64-3.8\\setuptools\\bdist.win-amd64\\wheel\\.\\llama_cpp\n",
      "  copying _skbuild\\win-amd64-3.8\\setuptools\\lib.win-amd64-cpython-38\\llama_cpp\\__init__.py -> _skbuild\\win-amd64-3.8\\setuptools\\bdist.win-amd64\\wheel\\.\\llama_cpp\n",
      "  copied 12 files\n",
      "  running install_data\n",
      "  creating _skbuild\\win-amd64-3.8\\setuptools\\bdist.win-amd64\\wheel\\llama_cpp_python-0.1.78.data\n",
      "  creating _skbuild\\win-amd64-3.8\\setuptools\\bdist.win-amd64\\wheel\\llama_cpp_python-0.1.78.data\\data\n",
      "  creating _skbuild\\win-amd64-3.8\\setuptools\\bdist.win-amd64\\wheel\\llama_cpp_python-0.1.78.data\\data\\lib\n",
      "  copying _skbuild\\win-amd64-3.8\\cmake-install\\lib\\ggml_shared.lib -> _skbuild\\win-amd64-3.8\\setuptools\\bdist.win-amd64\\wheel\\llama_cpp_python-0.1.78.data\\data\\lib\n",
      "  copying _skbuild\\win-amd64-3.8\\cmake-install\\lib\\llama.lib -> _skbuild\\win-amd64-3.8\\setuptools\\bdist.win-amd64\\wheel\\llama_cpp_python-0.1.78.data\\data\\lib\n",
      "  creating _skbuild\\win-amd64-3.8\\setuptools\\bdist.win-amd64\\wheel\\llama_cpp_python-0.1.78.data\\data\\bin\n",
      "  copying _skbuild\\win-amd64-3.8\\cmake-install\\bin\\convert.py -> _skbuild\\win-amd64-3.8\\setuptools\\bdist.win-amd64\\wheel\\llama_cpp_python-0.1.78.data\\data\\bin\n",
      "  copying _skbuild\\win-amd64-3.8\\cmake-install\\bin\\llama.dll -> _skbuild\\win-amd64-3.8\\setuptools\\bdist.win-amd64\\wheel\\llama_cpp_python-0.1.78.data\\data\\bin\n",
      "  copying _skbuild\\win-amd64-3.8\\cmake-install\\bin\\ggml_shared.dll -> _skbuild\\win-amd64-3.8\\setuptools\\bdist.win-amd64\\wheel\\llama_cpp_python-0.1.78.data\\data\\bin\n",
      "  copying _skbuild\\win-amd64-3.8\\cmake-install\\bin\\convert-lora-to-ggml.py -> _skbuild\\win-amd64-3.8\\setuptools\\bdist.win-amd64\\wheel\\llama_cpp_python-0.1.78.data\\data\\bin\n",
      "  running install_egg_info\n",
      "  running egg_info\n",
      "  writing llama_cpp_python.egg-info\\PKG-INFO\n",
      "  writing dependency_links to llama_cpp_python.egg-info\\dependency_links.txt\n",
      "  writing requirements to llama_cpp_python.egg-info\\requires.txt\n",
      "  writing top-level names to llama_cpp_python.egg-info\\top_level.txt\n",
      "  reading manifest file 'llama_cpp_python.egg-info\\SOURCES.txt'\n",
      "  adding license file 'LICENSE.md'\n",
      "  writing manifest file 'llama_cpp_python.egg-info\\SOURCES.txt'\n",
      "  Copying llama_cpp_python.egg-info to _skbuild\\win-amd64-3.8\\setuptools\\bdist.win-amd64\\wheel\\.\\llama_cpp_python-0.1.78-py3.8.egg-info\n",
      "  running install_scripts\n",
      "  copied 0 files\n",
      "  creating _skbuild\\win-amd64-3.8\\setuptools\\bdist.win-amd64\\wheel\\llama_cpp_python-0.1.78.dist-info\\WHEEL\n",
      "  creating 'C:\\Users\\AL03238\\AppData\\Local\\Temp\\1\\pip-wheel-8pk_rhrl\\.tmp-wwzqr8eu\\llama_cpp_python-0.1.78-cp38-cp38-win_amd64.whl' and adding '_skbuild\\win-amd64-3.8\\setuptools\\bdist.win-amd64\\wheel' to it\n",
      "  adding 'llama_cpp/__init__.py'\n",
      "  adding 'llama_cpp/llama.dll'\n",
      "  adding 'llama_cpp/llama.lib'\n",
      "  adding 'llama_cpp/llama.py'\n",
      "  adding 'llama_cpp/llama_cpp.py'\n",
      "  adding 'llama_cpp/llama_grammar.py'\n",
      "  adding 'llama_cpp/llama_types.py'\n",
      "  adding 'llama_cpp/py.typed'\n",
      "  adding 'llama_cpp/utils.py'\n",
      "  adding 'llama_cpp/server/__init__.py'\n",
      "  adding 'llama_cpp/server/__main__.py'\n",
      "  adding 'llama_cpp/server/app.py'\n",
      "  adding 'llama_cpp_python-0.1.78.data/data/bin/convert-lora-to-ggml.py'\n",
      "  adding 'llama_cpp_python-0.1.78.data/data/bin/convert.py'\n",
      "  adding 'llama_cpp_python-0.1.78.data/data/bin/ggml_shared.dll'\n",
      "  adding 'llama_cpp_python-0.1.78.data/data/bin/llama.dll'\n",
      "  adding 'llama_cpp_python-0.1.78.data/data/lib/ggml_shared.lib'\n",
      "  adding 'llama_cpp_python-0.1.78.data/data/lib/llama.lib'\n",
      "  adding 'llama_cpp_python-0.1.78.dist-info/LICENSE.md'\n",
      "  adding 'llama_cpp_python-0.1.78.dist-info/METADATA'\n",
      "  adding 'llama_cpp_python-0.1.78.dist-info/WHEEL'\n",
      "  adding 'llama_cpp_python-0.1.78.dist-info/top_level.txt'\n",
      "  adding 'llama_cpp_python-0.1.78.dist-info/RECORD'\n",
      "  removing _skbuild\\win-amd64-3.8\\setuptools\\bdist.win-amd64\\wheel\n",
      "  C:\\Users\\AL03238\\AppData\\Local\\Temp\\1\\pip-build-env-6u2s1tle\\overlay\\Lib\\site-packages\\wheel\\bdist_wheel.py:108: RuntimeWarning: Config variable 'Py_DEBUG' is unset, Python ABI tag may be incorrect\n",
      "    if get_flag(\"Py_DEBUG\", hasattr(sys, \"gettotalrefcount\"), warn=(impl == \"cp\")):\n",
      "  WARNING: Failed to remove contents in a temporary directory 'C:\\ProgramData\\Anaconda3\\envs\\mchatbot\\Lib\\site-packages\\~-mpy'.\n",
      "  You can safely remove it manually.\n",
      "  WARNING: Failed to remove contents in a temporary directory 'C:\\ProgramData\\Anaconda3\\envs\\mchatbot\\Lib\\site-packages\\~lama_cpp'.\n",
      "  You can safely remove it manually.\n"
     ]
    },
    {
     "name": "stdout",
     "output_type": "stream",
     "text": [
      "\n",
      "Collecting llama-cpp-python==0.1.78\n",
      "  Downloading llama_cpp_python-0.1.78.tar.gz (1.7 MB)\n",
      "     ---------------------------------------- 0.0/1.7 MB ? eta -:--:--\n",
      "     ------ --------------------------------- 0.3/1.7 MB 8.9 MB/s eta 0:00:01\n",
      "     ---------------- ----------------------- 0.7/1.7 MB 9.1 MB/s eta 0:00:01\n",
      "     -------------------------------- ------- 1.4/1.7 MB 11.0 MB/s eta 0:00:01\n",
      "     ---------------------------------------- 1.7/1.7 MB 9.8 MB/s eta 0:00:00\n",
      "  Installing build dependencies: started\n",
      "  Installing build dependencies: finished with status 'done'\n",
      "  Getting requirements to build wheel: started\n",
      "  Getting requirements to build wheel: finished with status 'done'\n",
      "  Preparing metadata (pyproject.toml): started\n",
      "  Preparing metadata (pyproject.toml): finished with status 'done'\n",
      "  Link requires a different Python (3.8.19 not in: '>=3.9'): https://files.pythonhosted.org/packages/26/de/437a60a69f7fd0c79264530a97787b2ac7394616e3661236201518f8a47d/numpy-1.25.0rc1.tar.gz (from https://pypi.org/simple/numpy/) (requires-python:>=3.9)\n",
      "  Link requires a different Python (3.8.19 not in: '>=3.9'): https://files.pythonhosted.org/packages/d0/b2/fe774844d1857804cc884bba67bec38f649c99d0dc1ee7cbbf1da601357c/numpy-1.25.0.tar.gz (from https://pypi.org/simple/numpy/) (requires-python:>=3.9)\n",
      "  Link requires a different Python (3.8.19 not in: '>=3.9'): https://files.pythonhosted.org/packages/cf/7a/f68d1d658a0e68084097beb212fa9356fee7eabff8b57231cc4acb555b12/numpy-1.25.1.tar.gz (from https://pypi.org/simple/numpy/) (requires-python:>=3.9)\n",
      "  Link requires a different Python (3.8.19 not in: '>=3.9'): https://files.pythonhosted.org/packages/a0/41/8f53eff8e969dd8576ddfb45e7ed315407d27c7518ae49418be8ed532b07/numpy-1.25.2.tar.gz (from https://pypi.org/simple/numpy/) (requires-python:>=3.9)\n",
      "  Link requires a different Python (3.8.19 not in: '<3.13,>=3.9'): https://files.pythonhosted.org/packages/29/5e/5887b95aa544a977d21f4adbc5b052897c0e730aa6408ed9903aece7f18f/numpy-1.26.0b1.tar.gz (from https://pypi.org/simple/numpy/) (requires-python:<3.13,>=3.9)\n",
      "  Link requires a different Python (3.8.19 not in: '<3.13,>=3.9'): https://files.pythonhosted.org/packages/33/a9/1233954ed69e96e829e6615a6e4a68e8c99d599661edff756fb4300c9a0b/numpy-1.26.0rc1.tar.gz (from https://pypi.org/simple/numpy/) (requires-python:<3.13,>=3.9)\n",
      "  Link requires a different Python (3.8.19 not in: '<3.13,>=3.9'): https://files.pythonhosted.org/packages/55/b3/b13bce39ba82b7398c06d10446f5ffd5c07db39b09bd37370dc720c7951c/numpy-1.26.0.tar.gz (from https://pypi.org/simple/numpy/) (requires-python:<3.13,>=3.9)\n",
      "  Link requires a different Python (3.8.19 not in: '<3.13,>=3.9'): https://files.pythonhosted.org/packages/78/23/f78fd8311e0f710fe1d065d50b92ce0057fe877b8ed7fd41b28ad6865bfc/numpy-1.26.1.tar.gz (from https://pypi.org/simple/numpy/) (requires-python:<3.13,>=3.9)\n",
      "  Link requires a different Python (3.8.19 not in: '>=3.9'): https://files.pythonhosted.org/packages/dd/2b/205ddff2314d4eea852e31d53b8e55eb3f32b292efc3dd86bd827ab9019d/numpy-1.26.2.tar.gz (from https://pypi.org/simple/numpy/) (requires-python:>=3.9)\n",
      "  Link requires a different Python (3.8.19 not in: '>=3.9'): https://files.pythonhosted.org/packages/d0/b0/13e2b50c95bfc1d5ee04925eb5c105726c838f922d0aaddd57b7c8be0f8b/numpy-1.26.3.tar.gz (from https://pypi.org/simple/numpy/) (requires-python:>=3.9)\n",
      "  Link requires a different Python (3.8.19 not in: '>=3.9'): https://files.pythonhosted.org/packages/65/6e/09db70a523a96d25e115e71cc56a6f9031e7b8cd166c1ac8438307c14058/numpy-1.26.4.tar.gz (from https://pypi.org/simple/numpy/) (requires-python:>=3.9)\n",
      "  Link requires a different Python (3.8.19 not in: '>=3.9'): https://files.pythonhosted.org/packages/51/fe/e4dab289c176ea4e13f97f11f281cc22d4a3b0add9883406db62d4f94d65/numpy-2.0.0b1.tar.gz (from https://pypi.org/simple/numpy/) (requires-python:>=3.9)\n",
      "  Link requires a different Python (3.8.19 not in: '>=3.9'): https://files.pythonhosted.org/packages/cc/63/edd9f84d7dab3fbc74fd8ab20f08f005b852d03e17a9b640d019e7da2da9/numpy-2.0.0rc1.tar.gz (from https://pypi.org/simple/numpy/) (requires-python:>=3.9)\n",
      "  Link requires a different Python (3.8.19 not in: '>=3.9'): https://files.pythonhosted.org/packages/de/96/5be497058b1bbc2709739a502395044a3890920e3bec283f4dcc1fc2ac79/numpy-2.0.0rc2.tar.gz (from https://pypi.org/simple/numpy/) (requires-python:>=3.9)\n",
      "  Link requires a different Python (3.8.19 not in: '>=3.9'): https://files.pythonhosted.org/packages/05/35/fb1ada118002df3fe91b5c3b28bc0d90f879b881a5d8f68b1f9b79c44bfe/numpy-2.0.0.tar.gz (from https://pypi.org/simple/numpy/) (requires-python:>=3.9)\n",
      "  Link requires a different Python (3.8.19 not in: '>=3.9'): https://files.pythonhosted.org/packages/1c/8a/0db635b225d2aa2984e405dc14bd2b0c324a0c312ea1bc9d283f2b83b038/numpy-2.0.1.tar.gz (from https://pypi.org/simple/numpy/) (requires-python:>=3.9)\n",
      "Collecting numpy==1.23.4\n",
      "  Obtaining dependency information for numpy==1.23.4 from https://files.pythonhosted.org/packages/a9/23/646b2bb081b25e8c6e2495fc1ddcea2ad89b5fdff194a9d1e8eb55cc1a6d/numpy-1.23.4-cp38-cp38-win_amd64.whl.metadata\n",
      "  Downloading numpy-1.23.4-cp38-cp38-win_amd64.whl.metadata (2.3 kB)\n",
      "Collecting typing-extensions>=4.5.0 (from llama-cpp-python==0.1.78)\n",
      "  Obtaining dependency information for typing-extensions>=4.5.0 from https://files.pythonhosted.org/packages/26/9f/ad63fc0248c5379346306f8668cda6e2e2e9c95e01216d2b8ffd9ff037d0/typing_extensions-4.12.2-py3-none-any.whl.metadata\n",
      "  Downloading typing_extensions-4.12.2-py3-none-any.whl.metadata (3.0 kB)\n",
      "Collecting diskcache>=5.6.1 (from llama-cpp-python==0.1.78)\n",
      "  Obtaining dependency information for diskcache>=5.6.1 from https://files.pythonhosted.org/packages/3f/27/4570e78fc0bf5ea0ca45eb1de3818a23787af9b390c0b0a0033a1b8236f9/diskcache-5.6.3-py3-none-any.whl.metadata\n",
      "  Downloading diskcache-5.6.3-py3-none-any.whl.metadata (20 kB)\n",
      "Downloading numpy-1.23.4-cp38-cp38-win_amd64.whl (14.7 MB)\n",
      "   ---------------------------------------- 0.0/14.7 MB ? eta -:--:--\n",
      "   ---------------------------------------- 0.2/14.7 MB 5.0 MB/s eta 0:00:03\n",
      "   - -------------------------------------- 0.6/14.7 MB 7.1 MB/s eta 0:00:02\n",
      "   -- ------------------------------------- 1.0/14.7 MB 8.3 MB/s eta 0:00:02\n",
      "   -- ------------------------------------- 1.0/14.7 MB 8.3 MB/s eta 0:00:02\n",
      "   --- ------------------------------------ 1.3/14.7 MB 5.9 MB/s eta 0:00:03\n",
      "   ----- ---------------------------------- 1.9/14.7 MB 7.0 MB/s eta 0:00:02\n",
      "   ------ --------------------------------- 2.4/14.7 MB 7.7 MB/s eta 0:00:02\n",
      "   -------- ------------------------------- 3.0/14.7 MB 8.3 MB/s eta 0:00:02\n",
      "   --------- ------------------------------ 3.6/14.7 MB 8.7 MB/s eta 0:00:02\n",
      "   ----------- ---------------------------- 4.1/14.7 MB 8.8 MB/s eta 0:00:02\n",
      "   ------------ --------------------------- 4.6/14.7 MB 9.3 MB/s eta 0:00:02\n",
      "   -------------- ------------------------- 5.2/14.7 MB 9.4 MB/s eta 0:00:02\n",
      "   --------------- ------------------------ 5.7/14.7 MB 9.6 MB/s eta 0:00:01\n",
      "   ----------------- ---------------------- 6.3/14.7 MB 9.7 MB/s eta 0:00:01\n",
      "   ------------------ --------------------- 6.8/14.7 MB 9.9 MB/s eta 0:00:01\n",
      "   ------------------- -------------------- 7.3/14.7 MB 10.0 MB/s eta 0:00:01\n",
      "   --------------------- ------------------ 7.9/14.7 MB 10.1 MB/s eta 0:00:01\n",
      "   ----------------------- ---------------- 8.5/14.7 MB 10.3 MB/s eta 0:00:01\n",
      "   ------------------------ --------------- 8.9/14.7 MB 10.1 MB/s eta 0:00:01\n",
      "   ------------------------ --------------- 9.0/14.7 MB 9.7 MB/s eta 0:00:01\n",
      "   ------------------------- -------------- 9.5/14.7 MB 9.8 MB/s eta 0:00:01\n",
      "   --------------------------- ------------ 10.0/14.7 MB 9.9 MB/s eta 0:00:01\n",
      "   ---------------------------- ----------- 10.6/14.7 MB 10.2 MB/s eta 0:00:01\n",
      "   ------------------------------ --------- 11.1/14.7 MB 10.1 MB/s eta 0:00:01\n",
      "   ------------------------------- -------- 11.6/14.7 MB 11.1 MB/s eta 0:00:01\n",
      "   --------------------------------- ------ 12.1/14.7 MB 10.9 MB/s eta 0:00:01\n",
      "   ---------------------------------- ----- 12.7/14.7 MB 10.9 MB/s eta 0:00:01\n",
      "   ------------------------------------ --- 13.2/14.7 MB 11.1 MB/s eta 0:00:01\n",
      "   ------------------------------------- -- 13.8/14.7 MB 11.1 MB/s eta 0:00:01\n",
      "   ---------------------------------------  14.3/14.7 MB 11.1 MB/s eta 0:00:01\n",
      "   ---------------------------------------- 14.7/14.7 MB 10.9 MB/s eta 0:00:00\n",
      "Downloading diskcache-5.6.3-py3-none-any.whl (45 kB)\n",
      "   ---------------------------------------- 0.0/45.5 kB ? eta -:--:--\n",
      "   ---------------------------------------- 45.5/45.5 kB ? eta 0:00:00\n",
      "Downloading typing_extensions-4.12.2-py3-none-any.whl (37 kB)\n",
      "Building wheels for collected packages: llama-cpp-python\n",
      "  Building wheel for llama-cpp-python (pyproject.toml): started\n",
      "  Building wheel for llama-cpp-python (pyproject.toml): finished with status 'done'\n",
      "  Created wheel for llama-cpp-python: filename=llama_cpp_python-0.1.78-cp38-cp38-win_amd64.whl size=1152718 sha256=743d3e74badd7263c93c90aa05fd2b7106aea6121306975bb2078095e02f5154\n",
      "  Stored in directory: C:\\Users\\AL03238\\AppData\\Local\\Temp\\1\\pip-ephem-wheel-cache-a8a592sx\\wheels\\2d\\16\\cc\\f13c0e41bdd1066ee9dd6345c5f9eb3af5a2f79be88d0ded27\n",
      "Successfully built llama-cpp-python\n",
      "Installing collected packages: typing-extensions, numpy, diskcache, llama-cpp-python\n",
      "  Attempting uninstall: typing-extensions\n",
      "    Found existing installation: typing_extensions 4.12.2\n",
      "    Uninstalling typing_extensions-4.12.2:\n",
      "      Removing file or directory c:\\programdata\\anaconda3\\envs\\mchatbot\\lib\\site-packages\\__pycache__\\typing_extensions.cpython-38.pyc\n",
      "      Removing file or directory c:\\programdata\\anaconda3\\envs\\mchatbot\\lib\\site-packages\\typing_extensions-4.12.2.dist-info\\\n",
      "      Removing file or directory c:\\programdata\\anaconda3\\envs\\mchatbot\\lib\\site-packages\\typing_extensions.py\n",
      "      Successfully uninstalled typing_extensions-4.12.2\n",
      "  Attempting uninstall: numpy\n",
      "    Found existing installation: numpy 1.23.4\n",
      "    Uninstalling numpy-1.23.4:\n",
      "      Removing file or directory c:\\programdata\\anaconda3\\envs\\mchatbot\\lib\\site-packages\\numpy-1.23.4.dist-info\\\n",
      "      Removing file or directory c:\\programdata\\anaconda3\\envs\\mchatbot\\lib\\site-packages\\numpy\\\n",
      "      Removing file or directory c:\\programdata\\anaconda3\\envs\\mchatbot\\scripts\\f2py.exe\n",
      "      Successfully uninstalled numpy-1.23.4\n",
      "  Attempting uninstall: diskcache\n",
      "    Found existing installation: diskcache 5.6.3\n",
      "    Uninstalling diskcache-5.6.3:\n",
      "      Removing file or directory c:\\programdata\\anaconda3\\envs\\mchatbot\\lib\\site-packages\\diskcache-5.6.3.dist-info\\\n",
      "      Removing file or directory c:\\programdata\\anaconda3\\envs\\mchatbot\\lib\\site-packages\\diskcache\\\n",
      "      Successfully uninstalled diskcache-5.6.3\n",
      "  Attempting uninstall: llama-cpp-python\n",
      "    Found existing installation: llama_cpp_python 0.1.78\n",
      "    Uninstalling llama_cpp_python-0.1.78:\n",
      "      Removing file or directory c:\\programdata\\anaconda3\\envs\\mchatbot\\bin\\\n",
      "      Removing file or directory c:\\programdata\\anaconda3\\envs\\mchatbot\\lib\\ggml_shared.lib\n",
      "      Removing file or directory c:\\programdata\\anaconda3\\envs\\mchatbot\\lib\\llama.lib\n",
      "      Removing file or directory c:\\programdata\\anaconda3\\envs\\mchatbot\\lib\\site-packages\\llama_cpp\\\n",
      "      Removing file or directory c:\\programdata\\anaconda3\\envs\\mchatbot\\lib\\site-packages\\llama_cpp_python-0.1.78.dist-info\\\n",
      "      Successfully uninstalled llama_cpp_python-0.1.78\n",
      "Successfully installed diskcache-5.6.3 llama-cpp-python-0.1.78 numpy-1.23.4 typing-extensions-4.12.2\n"
     ]
    }
   ],
   "source": [
    "!pip install --trusted-host pypi.org --trusted-host pypi.python.org --trusted-host files.pythonhosted.org cmake\n",
    "!pip install --trusted-host pypi.org --trusted-host pypi.python.org --trusted-host files.pythonhosted.org llama-cpp-python==0.1.78 numpy==1.23.4 --force-reinstall --upgrade --no-cache-dir --verbose"
   ]
  },
  {
   "cell_type": "code",
   "execution_count": 58,
   "metadata": {
    "ExecuteTime": {
     "end_time": "2024-08-01T13:20:13.541517Z",
     "start_time": "2024-08-01T13:20:13.512819Z"
    }
   },
   "outputs": [],
   "source": [
    "from huggingface_hub import hf_hub_download\n",
    "from llama_cpp import Llama"
   ]
  },
  {
   "cell_type": "code",
   "execution_count": 59,
   "metadata": {
    "ExecuteTime": {
     "end_time": "2024-08-01T13:20:14.003019Z",
     "start_time": "2024-08-01T13:20:13.971796Z"
    }
   },
   "outputs": [],
   "source": [
    "model_name_or_path = \"TheBloke/Llama-2-13B-chat-GGML\"\n",
    "model_basename = \"llama-2-13b-chat.ggmlv3.q5_1.bin\""
   ]
  },
  {
   "cell_type": "code",
   "execution_count": 60,
   "metadata": {
    "ExecuteTime": {
     "end_time": "2024-08-01T13:20:14.342044Z",
     "start_time": "2024-08-01T13:20:14.326306Z"
    }
   },
   "outputs": [],
   "source": [
    "# code for download the model from huggingface\n",
    "# model_path = hf_hub_download(repo_id=model_name_or_path, filename=model_basename, local_dir=r\"C:\\Users\\AL03238\\OneDrive - Elevance Health\\Documents\\Learnings\\GitHub\\End-to-End-Medical-Chatbot-using-LLM\\model\")"
   ]
  },
  {
   "cell_type": "code",
   "execution_count": 61,
   "metadata": {
    "ExecuteTime": {
     "end_time": "2024-08-01T13:20:14.581818Z",
     "start_time": "2024-08-01T13:20:14.550528Z"
    }
   },
   "outputs": [],
   "source": [
    "from langchain import PromptTemplate\n",
    "from langchain.chains import RetrievalQA\n",
    "from langchain.embeddings import HuggingFaceEmbeddings\n",
    "from langchain.vectorstores import Pinecone\n",
    "import pinecone\n",
    "from langchain.document_loaders import PyMuPDFLoader, DirectoryLoader\n",
    "from langchain.text_splitter import RecursiveCharacterTextSplitter\n",
    "from langchain.prompts import PromptTemplate\n",
    "from langchain.llms import CTransformers"
   ]
  },
  {
   "cell_type": "code",
   "execution_count": 62,
   "metadata": {
    "ExecuteTime": {
     "end_time": "2024-08-01T13:20:14.805873Z",
     "start_time": "2024-08-01T13:20:14.775225Z"
    }
   },
   "outputs": [],
   "source": [
    "PINECONE_API_KEY = \"7f6b7506-8283-42ff-8fce-c62007e0dfa1\"\n",
    "PINE_CONE_HOST = \"https://medical-chatbot-62dwz9e.svc.aped-4627-b74a.pinecone.io\""
   ]
  },
  {
   "cell_type": "code",
   "execution_count": 63,
   "metadata": {
    "ExecuteTime": {
     "end_time": "2024-08-01T13:20:14.990097Z",
     "start_time": "2024-08-01T13:20:14.958814Z"
    }
   },
   "outputs": [],
   "source": [
    "## Extract the data from pdf\n",
    "def load_pdf(data):\n",
    "    loader =DirectoryLoader(data, glob=\"*.pdf\", loader_cls=PyMuPDFLoader)\n",
    "\n",
    "    documents = loader.load()\n",
    "    return documents"
   ]
  },
  {
   "cell_type": "code",
   "execution_count": 64,
   "metadata": {
    "ExecuteTime": {
     "end_time": "2024-08-01T13:20:20.663375Z",
     "start_time": "2024-08-01T13:20:15.150642Z"
    }
   },
   "outputs": [],
   "source": [
    "extracted_data = load_pdf('data/')"
   ]
  },
  {
   "cell_type": "code",
   "execution_count": 65,
   "metadata": {
    "ExecuteTime": {
     "end_time": "2024-08-01T13:20:20.678997Z",
     "start_time": "2024-08-01T13:20:20.663375Z"
    }
   },
   "outputs": [],
   "source": [
    "# extracted_data"
   ]
  },
  {
   "cell_type": "code",
   "execution_count": 66,
   "metadata": {
    "ExecuteTime": {
     "end_time": "2024-08-01T13:20:20.694590Z",
     "start_time": "2024-08-01T13:20:20.678997Z"
    }
   },
   "outputs": [],
   "source": [
    "def text_split(extracted_data):\n",
    "    text_splitter = RecursiveCharacterTextSplitter(chunk_size=500, chunk_overlap=20)\n",
    "    text_chunks = text_splitter.split_documents(extracted_data)\n",
    "\n",
    "    return text_chunks"
   ]
  },
  {
   "cell_type": "code",
   "execution_count": 67,
   "metadata": {
    "ExecuteTime": {
     "end_time": "2024-08-01T13:20:20.961644Z",
     "start_time": "2024-08-01T13:20:20.694590Z"
    }
   },
   "outputs": [
    {
     "name": "stdout",
     "output_type": "stream",
     "text": [
      "5779\n"
     ]
    }
   ],
   "source": [
    "text_chunks = text_split(extracted_data)\n",
    "print(len(text_chunks))"
   ]
  },
  {
   "cell_type": "code",
   "execution_count": 68,
   "metadata": {
    "ExecuteTime": {
     "end_time": "2024-08-01T13:20:20.977238Z",
     "start_time": "2024-08-01T13:20:20.961644Z"
    }
   },
   "outputs": [],
   "source": [
    "## download embedding model\n",
    "def download_hugging_face_embedding():\n",
    "    embeddings = HuggingFaceEmbeddings(model_name = \"sentence-transformers/all-MiniLM-L6-v2\")\n",
    "    return embeddings"
   ]
  },
  {
   "cell_type": "code",
   "execution_count": 69,
   "metadata": {
    "ExecuteTime": {
     "end_time": "2024-08-01T13:20:21.086989Z",
     "start_time": "2024-08-01T13:20:20.977238Z"
    }
   },
   "outputs": [],
   "source": [
    "embeddings = download_hugging_face_embedding()"
   ]
  },
  {
   "cell_type": "code",
   "execution_count": 70,
   "metadata": {
    "ExecuteTime": {
     "end_time": "2024-08-01T13:20:21.102604Z",
     "start_time": "2024-08-01T13:20:21.086989Z"
    }
   },
   "outputs": [
    {
     "data": {
      "text/plain": [
       "HuggingFaceEmbeddings(client=SentenceTransformer(\n",
       "  (0): Transformer({'max_seq_length': 256, 'do_lower_case': False}) with Transformer model: BertModel \n",
       "  (1): Pooling({'word_embedding_dimension': 384, 'pooling_mode_cls_token': False, 'pooling_mode_mean_tokens': True, 'pooling_mode_max_tokens': False, 'pooling_mode_mean_sqrt_len_tokens': False})\n",
       "  (2): Normalize()\n",
       "), model_name='sentence-transformers/all-MiniLM-L6-v2', cache_folder=None, model_kwargs={}, encode_kwargs={})"
      ]
     },
     "execution_count": 70,
     "metadata": {},
     "output_type": "execute_result"
    }
   ],
   "source": [
    "embeddings"
   ]
  },
  {
   "cell_type": "code",
   "execution_count": 71,
   "metadata": {
    "ExecuteTime": {
     "end_time": "2024-08-01T13:20:21.151330Z",
     "start_time": "2024-08-01T13:20:21.102604Z"
    }
   },
   "outputs": [
    {
     "name": "stdout",
     "output_type": "stream",
     "text": [
      "Length 384\n"
     ]
    }
   ],
   "source": [
    "query_result = embeddings.embed_query(\"Hello World\")\n",
    "print(\"Length\", len(query_result))"
   ]
  },
  {
   "cell_type": "markdown",
   "metadata": {},
   "source": [
    "## PineCone vectorDB initialisation"
   ]
  },
  {
   "cell_type": "code",
   "execution_count": 72,
   "metadata": {
    "ExecuteTime": {
     "end_time": "2024-08-01T13:20:21.158569Z",
     "start_time": "2024-08-01T13:20:21.151330Z"
    }
   },
   "outputs": [],
   "source": [
    "PINECONE_API_KEY = \"7f6b7506-8283-42ff-8fce-c62007e0dfa1\"\n",
    "PINE_CONE_HOST = \"https://medical-chatbot-62dwz9e.svc.aped-4627-b74a.pinecone.io\""
   ]
  },
  {
   "cell_type": "code",
   "execution_count": 73,
   "metadata": {
    "ExecuteTime": {
     "end_time": "2024-08-01T13:20:28.012534Z",
     "start_time": "2024-08-01T13:20:27.965595Z"
    }
   },
   "outputs": [],
   "source": [
    "from pinecone.grpc import PineconeGRPC as Pinecone\n",
    "pc = Pinecone(api_key=PINECONE_API_KEY)"
   ]
  },
  {
   "cell_type": "code",
   "execution_count": 74,
   "metadata": {
    "ExecuteTime": {
     "end_time": "2024-08-01T13:20:30.260463Z",
     "start_time": "2024-08-01T13:20:28.901754Z"
    }
   },
   "outputs": [],
   "source": [
    "index_name = \"medical-chatbot\"\n",
    "if index_name not in pc.list_indexes().names():\n",
    "    pc.create_index(\n",
    "        name=index_name,\n",
    "        dimension=384,\n",
    "        metric=\"cosine\",\n",
    "        spec=ServerlessSpec(cloud='aws', region='us-east-1')\n",
    "    )\n",
    "index = pc.Index(\"medical-chatbot\")\n",
    "\n"
   ]
  },
  {
   "cell_type": "code",
   "execution_count": 77,
   "metadata": {
    "ExecuteTime": {
     "end_time": "2024-08-01T13:22:24.825039Z",
     "start_time": "2024-08-01T13:22:23.883350Z"
    }
   },
   "outputs": [
    {
     "data": {
      "text/plain": [
       "{'dimension': 384,\n",
       " 'index_fullness': 0.0,\n",
       " 'namespaces': {'': {'vector_count': 0}},\n",
       " 'total_vector_count': 0}"
      ]
     },
     "execution_count": 77,
     "metadata": {},
     "output_type": "execute_result"
    }
   ],
   "source": [
    "index.describe_index_stats()\n",
    "# vector_lst = []\n",
    "# for i in text_chunks:\n",
    "#     vector_lst.append(embeddings.embed_query(i.page_content))"
   ]
  },
  {
   "cell_type": "code",
   "execution_count": 103,
   "metadata": {
    "ExecuteTime": {
     "end_time": "2024-08-01T15:08:42.579778Z",
     "start_time": "2024-08-01T14:38:02.293127Z"
    }
   },
   "outputs": [],
   "source": [
    "# Iterate over words and their embeddings\n",
    "import tqdm\n",
    "for i, t in enumerate(text_chunks):\n",
    "    # Upsert each word embedding into the index\n",
    "    index.upsert(vectors=[{\"id\": str(i), \"values\": embeddings.embed_query(t.page_content), \"metadata\": {\"text\": t.page_content}}])"
   ]
  },
  {
   "cell_type": "code",
   "execution_count": 104,
   "metadata": {
    "ExecuteTime": {
     "end_time": "2024-08-01T15:19:10.569545Z",
     "start_time": "2024-08-01T15:19:09.626523Z"
    }
   },
   "outputs": [
    {
     "data": {
      "text/plain": [
       "{'dimension': 384,\n",
       " 'index_fullness': 0.0,\n",
       " 'namespaces': {'': {'vector_count': 5779}},\n",
       " 'total_vector_count': 5779}"
      ]
     },
     "execution_count": 104,
     "metadata": {},
     "output_type": "execute_result"
    }
   ],
   "source": [
    "index.describe_index_stats()\n"
   ]
  },
  {
   "cell_type": "code",
   "execution_count": 115,
   "metadata": {
    "ExecuteTime": {
     "end_time": "2024-08-01T15:24:52.299390Z",
     "start_time": "2024-08-01T15:24:52.283765Z"
    }
   },
   "outputs": [],
   "source": [
    "def query(text):\n",
    "    query_embedding = embeddings.embed_query(text)\n",
    "    print(query_embedding)\n",
    "    query_result = index.query(query_embedding, top_k=2, top_n=1)\n",
    "    return query_result"
   ]
  },
  {
   "cell_type": "code",
   "execution_count": 132,
   "metadata": {
    "ExecuteTime": {
     "end_time": "2024-08-01T15:34:35.809154Z",
     "start_time": "2024-08-01T15:34:34.829929Z"
    }
   },
   "outputs": [],
   "source": [
    "query_result = index.query(\n",
    "    vector=embeddings.embed_query(\"what are allergies?\"),\n",
    "    top_k=2,\n",
    "    include_values=True,\n",
    "    include_metadata=True,\n",
    ")"
   ]
  },
  {
   "cell_type": "code",
   "execution_count": 133,
   "metadata": {
    "ExecuteTime": {
     "end_time": "2024-08-01T15:34:35.825183Z",
     "start_time": "2024-08-01T15:34:35.809154Z"
    }
   },
   "outputs": [
    {
     "name": "stdout",
     "output_type": "stream",
     "text": [
      "reaction. Allergic rhinitis is characterized by an itchy,\n",
      "runny nose, often with a scratchy or irritated throat due\n",
      "to post-nasal drip. Inflammation of the thin membrane\n",
      "covering the eye (allergic conjunctivitis) causes redness,\n",
      "irritation, and increased tearing in the eyes. Asthma caus-\n",
      "es wheezing, coughing, and shortness of breath. Symp-\n",
      "toms of food allergies depend on the tissues most sensi-\n",
      "tive to the allergen and whether the allergen spread sys-\n"
     ]
    }
   ],
   "source": [
    "print(query_result[\"matches\"][0]['metadata']['text'])"
   ]
  },
  {
   "cell_type": "code",
   "execution_count": null,
   "metadata": {},
   "outputs": [],
   "source": []
  }
 ],
 "metadata": {
  "interpreter": {
   "hash": "d614f7bf93c3c780f7f62babcf05dd1e7296aefee4c35780afe53c07f8179dca"
  },
  "kernelspec": {
   "display_name": "mchatbot",
   "language": "python",
   "name": "python3"
  },
  "language_info": {
   "codemirror_mode": {
    "name": "ipython",
    "version": 3
   },
   "file_extension": ".py",
   "mimetype": "text/x-python",
   "name": "python",
   "nbconvert_exporter": "python",
   "pygments_lexer": "ipython3",
   "version": "3.8.19"
  },
  "orig_nbformat": 4
 },
 "nbformat": 4,
 "nbformat_minor": 2
}
