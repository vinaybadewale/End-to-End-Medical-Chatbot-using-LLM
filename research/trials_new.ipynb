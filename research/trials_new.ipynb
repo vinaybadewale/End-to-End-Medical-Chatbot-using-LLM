{
 "cells": [
  {
   "metadata": {
    "ExecuteTime": {
     "end_time": "2024-08-10T07:05:27.527547Z",
     "start_time": "2024-08-10T07:05:27.518646Z"
    }
   },
   "cell_type": "code",
   "source": [
    "import ssl\n",
    "import os\n",
    "try:\n",
    "    _create_unverified_https_context = ssl._create_unverified_context\n",
    "except AttributeError:\n",
    "    pass\n",
    "else:\n",
    "    ssl._create_default_https_context = _create_unverified_https_context\n",
    "os.environ[\"REQUESTS_CA_BUNDLE\"] = str(r\"C:\\Users\\AL03238\\OneDrive - Elevance Health\\Documents\\Work\\Project Intelliauth\\license\\root.pem\")\n",
    "os.environ[\"SSL_CERT_FILE\"] = str(r\"C:\\Users\\AL03238\\OneDrive - Elevance Health\\Documents\\Work\\Project Intelliauth\\license\\root.pem\")"
   ],
   "outputs": [],
   "execution_count": 1
  },
  {
   "metadata": {
    "ExecuteTime": {
     "end_time": "2024-08-10T07:05:28.931558Z",
     "start_time": "2024-08-10T07:05:28.331483Z"
    }
   },
   "cell_type": "code",
   "source": "!python --version",
   "outputs": [
    {
     "name": "stdout",
     "output_type": "stream",
     "text": [
      "Python 3.12.4\n"
     ]
    }
   ],
   "execution_count": 2
  },
  {
   "metadata": {
    "ExecuteTime": {
     "end_time": "2024-08-10T07:05:33.227008Z",
     "start_time": "2024-08-10T07:05:28.935571Z"
    }
   },
   "cell_type": "code",
   "source": [
    "import getpass\n",
    "import os\n",
    "import time\n",
    "\n",
    "from pinecone import Pinecone, ServerlessSpec\n",
    "\n",
    "if not os.getenv(\"PINECONE_API_KEY\"):\n",
    "    os.environ[\"PINECONE_API_KEY\"] = getpass.getpass(\"Enter your Pinecone API key: \")\n",
    "\n",
    "pinecone_api_key = os.environ.get(\"PINECONE_API_KEY\")\n",
    "\n",
    "pc = Pinecone(api_key=pinecone_api_key)"
   ],
   "outputs": [],
   "execution_count": 3
  },
  {
   "metadata": {
    "ExecuteTime": {
     "end_time": "2024-08-10T07:05:35.500360Z",
     "start_time": "2024-08-10T07:05:33.228017Z"
    }
   },
   "cell_type": "code",
   "source": [
    "import time\n",
    "\n",
    "index_name = \"medical-chatbot2\"  # change if desired\n",
    "\n",
    "existing_indexes = [index_info[\"name\"] for index_info in pc.list_indexes()]\n",
    "\n",
    "if index_name not in existing_indexes:\n",
    "    pc.create_index(\n",
    "        name=index_name,\n",
    "        dimension=384,\n",
    "        metric=\"cosine\",\n",
    "        spec=ServerlessSpec(cloud=\"aws\", region=\"us-east-1\"),\n",
    "    )\n",
    "    while not pc.describe_index(index_name).status[\"ready\"]:\n",
    "        time.sleep(1)\n",
    "\n",
    "index = pc.Index(index_name)"
   ],
   "outputs": [],
   "execution_count": 4
  },
  {
   "metadata": {
    "ExecuteTime": {
     "end_time": "2024-08-10T07:05:37.056501Z",
     "start_time": "2024-08-10T07:05:35.502369Z"
    }
   },
   "cell_type": "code",
   "source": "index.describe_index_stats()\n",
   "outputs": [
    {
     "data": {
      "text/plain": [
       "{'dimension': 384,\n",
       " 'index_fullness': 0.0,\n",
       " 'namespaces': {},\n",
       " 'total_vector_count': 0}"
      ]
     },
     "execution_count": 5,
     "metadata": {},
     "output_type": "execute_result"
    }
   ],
   "execution_count": 5
  },
  {
   "metadata": {
    "ExecuteTime": {
     "end_time": "2024-08-10T07:05:39.037549Z",
     "start_time": "2024-08-10T07:05:37.057508Z"
    }
   },
   "cell_type": "code",
   "source": [
    "from langchain.document_loaders import PyMuPDFLoader, DirectoryLoader\n",
    "from langchain.text_splitter import RecursiveCharacterTextSplitter\n"
   ],
   "outputs": [],
   "execution_count": 6
  },
  {
   "metadata": {
    "ExecuteTime": {
     "end_time": "2024-08-10T07:05:39.044438Z",
     "start_time": "2024-08-10T07:05:39.039072Z"
    }
   },
   "cell_type": "code",
   "source": [
    "# Extract the data from pdf\n",
    "def load_pdf(data):\n",
    "    loader =DirectoryLoader(data, glob=\"*.pdf\", loader_cls=PyMuPDFLoader)\n",
    "\n",
    "    documents = loader.load()\n",
    "    return documents"
   ],
   "outputs": [],
   "execution_count": 7
  },
  {
   "metadata": {
    "ExecuteTime": {
     "end_time": "2024-08-10T07:05:45.428318Z",
     "start_time": "2024-08-10T07:05:39.045445Z"
    }
   },
   "cell_type": "code",
   "source": "extracted_data = load_pdf(\"C:/Users/AL03238/OneDrive - Elevance Health/Documents/Learnings/GitHub/End-to-End-Medical-Chatbot-using-LLM/data/\")\n",
   "outputs": [],
   "execution_count": 8
  },
  {
   "metadata": {
    "ExecuteTime": {
     "end_time": "2024-08-10T07:05:45.434677Z",
     "start_time": "2024-08-10T07:05:45.429324Z"
    }
   },
   "cell_type": "code",
   "source": [
    "def text_split(extracted_data):\n",
    "    text_splitter = RecursiveCharacterTextSplitter(chunk_size=300, chunk_overlap=10)\n",
    "    text_chunks = text_splitter.split_documents(extracted_data)\n",
    "\n",
    "    return text_chunks"
   ],
   "outputs": [],
   "execution_count": 9
  },
  {
   "metadata": {
    "ExecuteTime": {
     "end_time": "2024-08-10T07:05:45.731420Z",
     "start_time": "2024-08-10T07:05:45.435685Z"
    }
   },
   "cell_type": "code",
   "source": [
    "text_chunks = text_split(extracted_data)\n",
    "print(len(text_chunks))"
   ],
   "outputs": [
    {
     "name": "stdout",
     "output_type": "stream",
     "text": [
      "9659\n"
     ]
    }
   ],
   "execution_count": 10
  },
  {
   "metadata": {
    "ExecuteTime": {
     "end_time": "2024-08-10T07:05:45.968931Z",
     "start_time": "2024-08-10T07:05:45.733472Z"
    }
   },
   "cell_type": "code",
   "source": "index.describe_index_stats()\n",
   "outputs": [
    {
     "data": {
      "text/plain": [
       "{'dimension': 384,\n",
       " 'index_fullness': 0.0,\n",
       " 'namespaces': {},\n",
       " 'total_vector_count': 0}"
      ]
     },
     "execution_count": 11,
     "metadata": {},
     "output_type": "execute_result"
    }
   ],
   "execution_count": 11
  },
  {
   "metadata": {
    "ExecuteTime": {
     "end_time": "2024-08-10T07:06:15.063196Z",
     "start_time": "2024-08-10T07:05:51.244426Z"
    }
   },
   "cell_type": "code",
   "source": [
    "from langchain_huggingface import HuggingFaceEmbeddings\n",
    "\n",
    "embeddings = HuggingFaceEmbeddings(model_name = \"sentence-transformers/all-MiniLM-L6-v2\")"
   ],
   "outputs": [
    {
     "name": "stderr",
     "output_type": "stream",
     "text": [
      "C:\\ProgramData\\Anaconda3\\envs\\genAI_v2\\Lib\\site-packages\\transformers\\tokenization_utils_base.py:1601: FutureWarning: `clean_up_tokenization_spaces` was not set. It will be set to `True` by default. This behavior will be depracted in transformers v4.45, and will be then set to `False` by default. For more details check this issue: https://github.com/huggingface/transformers/issues/31884\n",
      "  warnings.warn(\n"
     ]
    }
   ],
   "execution_count": 12
  },
  {
   "metadata": {
    "ExecuteTime": {
     "end_time": "2024-08-10T07:06:17.944630Z",
     "start_time": "2024-08-10T07:06:17.935496Z"
    }
   },
   "cell_type": "code",
   "source": [
    "def query(text):\n",
    "    query_embedding = embeddings.embed_query(text)\n",
    "    print(query_embedding)\n",
    "    query_result = index.query(query_embedding, top_k=3, top_n=2)\n",
    "    return query_result"
   ],
   "outputs": [],
   "execution_count": 13
  },
  {
   "metadata": {
    "ExecuteTime": {
     "end_time": "2024-08-10T07:06:18.300587Z",
     "start_time": "2024-08-10T07:06:18.294305Z"
    }
   },
   "cell_type": "code",
   "source": "# import multiprocessing\n",
   "outputs": [],
   "execution_count": 14
  },
  {
   "metadata": {
    "ExecuteTime": {
     "end_time": "2024-08-10T07:06:18.706661Z",
     "start_time": "2024-08-10T07:06:18.699419Z"
    }
   },
   "cell_type": "code",
   "source": [
    "# def upsert(t):\n",
    "#     # Perform operations on the item\n",
    "#     # Return the result\n",
    "#     index.upsert(vectors=[{\"values\": embeddings.embed_query(t.page_content), \"metadata\": {\"text\": t.page_content}}])\n",
    "#     pass\n"
   ],
   "outputs": [],
   "execution_count": 15
  },
  {
   "metadata": {
    "ExecuteTime": {
     "end_time": "2024-08-10T07:06:18.952471Z",
     "start_time": "2024-08-10T07:06:18.944591Z"
    }
   },
   "cell_type": "code",
   "source": [
    "# num_processors = multiprocessing.cpu_count()\n",
    "# pool = multiprocessing.Pool(processes=num_processors)\n"
   ],
   "outputs": [],
   "execution_count": 16
  },
  {
   "metadata": {
    "ExecuteTime": {
     "end_time": "2024-08-10T07:06:19.509703Z",
     "start_time": "2024-08-10T07:06:19.501301Z"
    }
   },
   "cell_type": "code",
   "source": [
    "# pool.map(upsert, text_chunks)\n",
    "# pool.close()\n",
    "# pool.join()\n"
   ],
   "outputs": [],
   "execution_count": 17
  },
  {
   "metadata": {
    "ExecuteTime": {
     "end_time": "2024-08-10T07:06:19.707957Z",
     "start_time": "2024-08-10T07:06:19.704496Z"
    }
   },
   "cell_type": "code",
   "source": "",
   "outputs": [],
   "execution_count": 17
  },
  {
   "metadata": {
    "ExecuteTime": {
     "end_time": "2024-08-10T07:57:49.340520Z",
     "start_time": "2024-08-10T07:06:22.765019Z"
    }
   },
   "cell_type": "code",
   "source": [
    "from tqdm import tqdm\n",
    "for i, t in enumerate(tqdm(text_chunks)):\n",
    "\n",
    "    # Upsert each word embedding into the index\n",
    "    index.upsert(vectors=[{\"id\": str(i), \"values\": embeddings.embed_query(t.page_content), \"metadata\": {\"text\": t.page_content}}])"
   ],
   "outputs": [
    {
     "name": "stderr",
     "output_type": "stream",
     "text": [
      "100%|██████████| 9659/9659 [51:26<00:00,  3.13it/s]  \n"
     ]
    }
   ],
   "execution_count": 18
  },
  {
   "metadata": {
    "ExecuteTime": {
     "end_time": "2024-08-10T07:57:56.148560Z",
     "start_time": "2024-08-10T07:57:49.342527Z"
    }
   },
   "cell_type": "code",
   "source": [
    "from langchain.llms import CTransformers\n",
    "llm = CTransformers(model=r\"C:\\Users\\AL03238\\OneDrive - Elevance Health\\Documents\\Learnings\\GitHub\\End-to-End-Medical-Chatbot-using-LLM\\model\\llama-2-13b-chat.ggmlv3.q5_1.bin\",\n",
    "                    model_type = \"llama\",\n",
    "                    config={\"max_new_tokens\":1024,\n",
    "                            'temperature':0.2})"
   ],
   "outputs": [],
   "execution_count": 19
  },
  {
   "metadata": {
    "ExecuteTime": {
     "end_time": "2024-08-10T07:57:56.600967Z",
     "start_time": "2024-08-10T07:57:56.150569Z"
    }
   },
   "cell_type": "code",
   "source": [
    "from langchain_pinecone import PineconeVectorStore\n",
    "\n",
    "vectorstore = PineconeVectorStore(index=index, embedding=embeddings)"
   ],
   "outputs": [],
   "execution_count": 20
  },
  {
   "metadata": {
    "ExecuteTime": {
     "end_time": "2024-08-10T07:57:56.611021Z",
     "start_time": "2024-08-10T07:57:56.602485Z"
    }
   },
   "cell_type": "code",
   "source": "from langchain import PromptTemplate\n",
   "outputs": [],
   "execution_count": 21
  },
  {
   "metadata": {
    "ExecuteTime": {
     "end_time": "2024-08-10T07:57:56.625682Z",
     "start_time": "2024-08-10T07:57:56.612031Z"
    }
   },
   "cell_type": "code",
   "source": [
    "prompt_template='''\n",
    "Use the following pieces of information to answer the question:\n",
    "If you don't know the answer to the question, just say you dont know, dont try to make up an answer to the question.\n",
    "\n",
    "Context: {context}\n",
    "Question: {question}\n",
    "Only return the helpful answer to the question and nothing else.\n",
    "Helpful answer: \n",
    "'''"
   ],
   "outputs": [],
   "execution_count": 22
  },
  {
   "metadata": {
    "ExecuteTime": {
     "end_time": "2024-08-10T07:57:56.640983Z",
     "start_time": "2024-08-10T07:57:56.626694Z"
    }
   },
   "cell_type": "code",
   "source": "PROMPT = PromptTemplate(template=prompt_template, input_variables=[\"context\", \"question\"], output_variables=[\"helpful_answer\"])\n",
   "outputs": [],
   "execution_count": 23
  },
  {
   "metadata": {
    "ExecuteTime": {
     "end_time": "2024-08-10T07:58:01.034721Z",
     "start_time": "2024-08-10T07:57:56.641996Z"
    }
   },
   "cell_type": "code",
   "source": [
    "# RetrievalQA\n",
    "from langchain.chains import RetrievalQA\n",
    "\n",
    "qa_chain = RetrievalQA.from_chain_type(\n",
    "    llm, retriever=vectorstore.as_retriever(), chain_type_kwargs={\"prompt\": PROMPT}\n",
    ")"
   ],
   "outputs": [],
   "execution_count": 24
  },
  {
   "metadata": {
    "ExecuteTime": {
     "end_time": "2024-08-10T08:54:03.982579Z",
     "start_time": "2024-08-10T08:50:45.420651Z"
    }
   },
   "cell_type": "code",
   "source": [
    "s = time.time()\n",
    "question = \"What are Antigen?\"\n",
    "result = qa_chain({\"query\": question})\n",
    "result[\"result\"]"
   ],
   "outputs": [
    {
     "ename": "TypeError",
     "evalue": "'module' object is not callable. Did you mean: 'time.time(...)'?",
     "output_type": "error",
     "traceback": [
      "\u001B[1;31m---------------------------------------------------------------------------\u001B[0m",
      "\u001B[1;31mTypeError\u001B[0m                                 Traceback (most recent call last)",
      "Cell \u001B[1;32mIn[28], line 5\u001B[0m\n\u001B[0;32m      3\u001B[0m result \u001B[38;5;241m=\u001B[39m qa_chain({\u001B[38;5;124m\"\u001B[39m\u001B[38;5;124mquery\u001B[39m\u001B[38;5;124m\"\u001B[39m: question})\n\u001B[0;32m      4\u001B[0m result[\u001B[38;5;124m\"\u001B[39m\u001B[38;5;124mresult\u001B[39m\u001B[38;5;124m\"\u001B[39m]\n\u001B[1;32m----> 5\u001B[0m \u001B[38;5;28mprint\u001B[39m(s\u001B[38;5;241m-\u001B[39m\u001B[43mtime\u001B[49m\u001B[43m(\u001B[49m\u001B[43m)\u001B[49m)\n",
      "\u001B[1;31mTypeError\u001B[0m: 'module' object is not callable. Did you mean: 'time.time(...)'?"
     ]
    }
   ],
   "execution_count": 28
  },
  {
   "metadata": {
    "ExecuteTime": {
     "end_time": "2024-08-10T08:55:28.297875Z",
     "start_time": "2024-08-10T08:55:28.291374Z"
    }
   },
   "cell_type": "code",
   "source": "print(result['result'])",
   "outputs": [
    {
     "name": "stdout",
     "output_type": "stream",
     "text": [
      "\n",
      "Please select one of the following options to answer the question:\n",
      "\n",
      "1) A foreign protein or particle that stimulates an immune response.\n",
      "2) A substance that triggers the body to produce antibodies.\n",
      "3) A specific type of histamine released by mast cells.\n",
      "4) A chemical stored within cells that reacts with antigens.\n",
      "5) A protein made by the body as a defense against foreign material.\n",
      "6) Any substance that causes the body to launch an immune response.\n"
     ]
    }
   ],
   "execution_count": 30
  },
  {
   "metadata": {},
   "cell_type": "code",
   "outputs": [],
   "execution_count": null,
   "source": ""
  }
 ],
 "metadata": {
  "language_info": {
   "name": "plaintext"
  },
  "orig_nbformat": 4,
  "kernelspec": {
   "name": "genai_v2",
   "language": "python",
   "display_name": "genAI_v2"
  }
 },
 "nbformat": 4,
 "nbformat_minor": 2
}
